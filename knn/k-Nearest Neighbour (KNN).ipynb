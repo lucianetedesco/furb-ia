{
 "cells": [
  {
   "cell_type": "markdown",
   "metadata": {},
   "source": [
    "# k-Nearest Neighbour (KNN)\n",
    "\n",
    "#### Alunos: Artur Bizon, Gabriel Schneider e Luciane Tedesco"
   ]
  },
  {
   "cell_type": "markdown",
   "metadata": {},
   "source": [
    "Neste trabalho estamos criando um classificador k-Nearest Neighbour, um dos classificadores mais\n",
    "simples. A tarefa a ser realizada é a seguinte:\n",
    "\n",
    "Dado um conjunto de dados, você quer construir um programa que prevê novos exemplos para uma classe. Por exemplo, dado um conjunto de dígitos escritos à mão, você quer construir um programa que reconhece automaticamente o CEP das cartas."
   ]
  },
  {
   "cell_type": "markdown",
   "metadata": {},
   "source": [
    "### Grupo de dados 1:"
   ]
  },
  {
   "cell_type": "code",
   "execution_count": 1,
   "metadata": {},
   "outputs": [
    {
     "name": "stdout",
     "output_type": "stream",
     "text": [
      "x_train shape:(100, 4)\n",
      "y_train shape:(100, 1)\n",
      "\n",
      "x_test shape:(50, 4)\n",
      "y_test shape:(50, 1)\n"
     ]
    }
   ],
   "source": [
    "import scipy.io as scipy\n",
    "from src.helpers import normaliza_valores\n",
    "\n",
    "# carregando os dados\n",
    "data = scipy.loadmat('Dados/grupoDados1.mat')\n",
    "\n",
    "# dividindo os dados\n",
    "x_train, x_test, y_train, y_test = data['grupoTrain'], data['grupoTest'], data['trainRots'], data['testRots']\n",
    "\n",
    "normalizedXTrain = normaliza_valores(x_train)\n",
    "normalizedXTest = normaliza_valores(x_test)\n",
    "\n",
    "print('x_train shape:' + str(x_train.shape))\n",
    "print('y_train shape:' + str(y_train.shape))\n",
    "print()\n",
    "print('x_test shape:' + str(x_test.shape))\n",
    "print('y_test shape:' + str(y_test.shape))"
   ]
  },
  {
   "cell_type": "markdown",
   "metadata": {},
   "source": [
    "#### Implementação do K-NN:"
   ]
  },
  {
   "cell_type": "code",
   "execution_count": 2,
   "metadata": {},
   "outputs": [],
   "source": [
    "import numpy as np\n",
    "import statistics\n",
    "\n",
    "class KNN:\n",
    "    def __init__(self, K=3):\n",
    "        self.K = K\n",
    "        \n",
    "        try:\n",
    "            from src.helpers import calcula_distancia\n",
    "            self.calcula_distancia = calcula_distancia\n",
    "        except:\n",
    "            print(\"Dependencias não encontradas\")\n",
    "        \n",
    "    def fit(self, treinoX, treinoY, teste):\n",
    "        treinados = []\n",
    "        for elementoTeste in teste:\n",
    "            vizinhos = []\n",
    "            for elementoTreino in zip(treinoX,treinoY):\n",
    "                distancia = self.calcula_distancia(elementoTeste,elementoTreino[0])\n",
    "                vizinho = (elementoTreino[1],distancia)\n",
    "                vizinhos.append(vizinho)\n",
    "            vizinhos = sorted(vizinhos, key= lambda v: v[1])\n",
    "            treinados.append(vizinhos)\n",
    "        \n",
    "        return treinados\n",
    "\n",
    "    def predict(self, treinado):\n",
    "        classificacao = []\n",
    "        for elemento in treinado:\n",
    "            # seleciona os k vizinhos para a moda\n",
    "            nVizinhos = elemento[:self.K]\n",
    "            labels = [int(vizinho[0]) for vizinho in nVizinhos]\n",
    "            try:\n",
    "                moda = statistics.mode(labels)\n",
    "            # Caso nao seja possivel tirar a moda das classes, \n",
    "            # eh atribuido o valor do menor label com a maior \n",
    "            # quantidade de repeticoes\n",
    "            except statistics.StatisticsError as st:\n",
    "                array = np.array(labels)\n",
    "                valores, quantidades = np.unique(array, return_counts=True)\n",
    "                maiorQtd = np.amax(quantidades)\n",
    "                for valor, quantidade in zip(valores, quantidades):\n",
    "                    if quantidade == maiorQtd:\n",
    "                        moda = valor\n",
    "                        break\n",
    "        \n",
    "            classificacao.append(moda)\n",
    "\n",
    "        return classificacao "
   ]
  },
  {
   "cell_type": "markdown",
   "metadata": {},
   "source": [
    "#### Testando a implementação 1-NN:\n",
    "\n",
    "Implemente um classificador 1-NN usando a distância Euclidiana.\n",
    "\n",
    "Para testar se você implementou a função corretamente, baixe o arquivo grupoDados1.mat - cada arquivo .mat contém 4 variáveis que são: grupoTest, grupoTrain, testRots, trainRots.\n",
    "\n",
    "Então, verifique quantas classes foram previstas corretamente, isto é chamado de acurácia (accuracy). A acurácia deve ser de 96%."
   ]
  },
  {
   "cell_type": "code",
   "execution_count": 3,
   "metadata": {},
   "outputs": [
    {
     "name": "stdout",
     "output_type": "stream",
     "text": [
      "Acurácia = 96.0%.\n"
     ]
    }
   ],
   "source": [
    "oneNN = KNN(1)\n",
    "\n",
    "treinado = oneNN.fit(normalizedXTrain, y_train, normalizedXTest)\n",
    "classificado = oneNN.predict(treinado)\n",
    "\n",
    "array = np.array(classificado)\n",
    "resposta = y_test[:,0]\n",
    "\n",
    "batata = array == resposta\n",
    "acertos = batata[batata==True]\n",
    "print(\"Acurácia = \" + str(len(acertos)/len(array) * 100) + \"%.\")"
   ]
  },
  {
   "cell_type": "markdown",
   "metadata": {},
   "source": [
    "#### Testando a implementação do K-NN:\n",
    "\n",
    "Implemente um classificador K-NN e teste novamente no conjunto de dados 1 (grupoDados1.mat).\n",
    "\n",
    "Utilize k = 10 para uma acurácia igual a 94%."
   ]
  },
  {
   "cell_type": "code",
   "execution_count": 4,
   "metadata": {},
   "outputs": [
    {
     "name": "stdout",
     "output_type": "stream",
     "text": [
      "Acurácia = 94.0%.\n"
     ]
    }
   ],
   "source": [
    "# A acurácia chega em 96% se utilizarmos os dados normalizados\n",
    "\n",
    "tenNN = KNN(10)\n",
    "\n",
    "treinado = tenNN.fit(x_train, y_train, x_test)\n",
    "classificado = tenNN.predict(treinado)\n",
    "\n",
    "array = np.array(classificado)\n",
    "resposta = y_test[:,0]\n",
    "\n",
    "batata = array == resposta\n",
    "acertos = batata[batata==True]\n",
    "print(\"Acurácia = \" + str(len(acertos)/len(array) * 100) + \"%.\")"
   ]
  },
  {
   "cell_type": "markdown",
   "metadata": {},
   "source": [
    "#### Visualizando os resultados gráficamente"
   ]
  },
  {
   "cell_type": "code",
   "execution_count": 6,
   "metadata": {},
   "outputs": [
    {
     "data": {
      "image/png": "[encoded data removed]",
      "text/plain": [
       "<Figure size 432x288 with 1 Axes>"
      ]
     },
     "metadata": {
      "needs_background": "light"
     },
     "output_type": "display_data"
    }
   ],
   "source": [
    "import matplotlib.pyplot as plt\n",
    "\n",
    "def getDadosRotulo(dados, rotulos, rotulo, indice):\n",
    "    ret = []\n",
    "    for idx in range(0, len(dados)):\n",
    "        if(rotulos[idx] == rotulo):\n",
    "            ret.append(dados[idx][indice])        \n",
    "    return ret\n",
    "\n",
    " \n",
    "\n",
    "def visualizaPontos(dados, rotulos, d1, d2):\n",
    "    fig, ax = plt.subplots() \n",
    "    ax.scatter(getDadosRotulo(dados, rotulos, 1, d1), getDadosRotulo(dados, rotulos, 1, d2), s=50, c='red' , marker='^')\n",
    "    ax.scatter(getDadosRotulo(dados, rotulos, 2, d1), getDadosRotulo(dados, rotulos, 2, d2), s=50, c='blue' , marker='+')\n",
    "    ax.scatter(getDadosRotulo(dados, rotulos, 3, d1), getDadosRotulo(dados, rotulos, 3, d2), s=50, c='green', marker='.')\n",
    "    plt.show()\n",
    "    pass\n",
    "\n",
    "\n",
    "visualizaPontos(x_train, y_train, 1,2)"
   ]
  },
  {
   "cell_type": "markdown",
   "metadata": {},
   "source": [
    "#### Resultados sobre o grupo de Dados 1\n",
    "\n",
    "O grupoDados1 é um conjunto de dados de flores. Para mais informações consulte: http://archive.ics.uci.edu/ml/datasets/Iris\n",
    "\n",
    "        Q1.1. Qual é a acurácia máxima que você consegue da classificação?\n",
    "\n",
    "        Q1.2. É necessário ter todas as características (atributos) para obter a acurácia máxima para esta classificação?"
   ]
  },
  {
   "cell_type": "markdown",
   "metadata": {},
   "source": [
    "- Questão 1:"
   ]
  },
  {
   "cell_type": "code",
   "execution_count": 7,
   "metadata": {},
   "outputs": [
    {
     "name": "stdout",
     "output_type": "stream",
     "text": [
      "Q1.1: A acurácia máxima se dá com k=15 obtendo: 98.0%.\n"
     ]
    }
   ],
   "source": [
    "def knn_grid_search(x_train, y_train, x_test, ks):\n",
    "    accs = []\n",
    "    Knn = None\n",
    "    max_acc = -1\n",
    "    \n",
    "    for k in ks:\n",
    "        knn = KNN(k)\n",
    "        \n",
    "        treinado = knn.fit(x_train, y_train, x_test)\n",
    "        classificado = knn.predict(treinado)\n",
    "\n",
    "        array = np.array(classificado)\n",
    "        resposta = y_test[:,0]\n",
    "\n",
    "        batata = array == resposta\n",
    "        acertos = batata[batata==True]\n",
    "        acc = len(acertos)/len(array)\n",
    "        \n",
    "        accs.append(acc)\n",
    "        \n",
    "        if acc > max_acc:\n",
    "            Knn = knn\n",
    "            max_acc = acc\n",
    "        \n",
    "    return accs, Knn\n",
    "\n",
    "\n",
    "normalizedXTrain = normaliza_valores(x_train)\n",
    "normalizedXTest = normaliza_valores(x_test)\n",
    "\n",
    "accs, knn = knn_grid_search(normalizedXTrain, y_train, normalizedXTest, list(range(1, 61))) \n",
    "print(\"Q1.1: A acurácia máxima se dá com k=\" + str(knn.K) + \" obtendo: \" + str(max(accs)*100) + \"%.\")"
   ]
  },
  {
   "cell_type": "markdown",
   "metadata": {},
   "source": [
    "- Questão 2:"
   ]
  },
  {
   "cell_type": "code",
   "execution_count": 8,
   "metadata": {},
   "outputs": [
    {
     "data": {
      "text/html": [
       "<div>\n",
       "<style scoped>\n",
       "    .dataframe tbody tr th:only-of-type {\n",
       "        vertical-align: middle;\n",
       "    }\n",
       "\n",
       "    .dataframe tbody tr th {\n",
       "        vertical-align: top;\n",
       "    }\n",
       "\n",
       "    .dataframe thead th {\n",
       "        text-align: right;\n",
       "    }\n",
       "</style>\n",
       "<table border=\"1\" class=\"dataframe\">\n",
       "  <thead>\n",
       "    <tr style=\"text-align: right;\">\n",
       "      <th></th>\n",
       "      <th>x_train1</th>\n",
       "      <th>x_train2</th>\n",
       "      <th>x_train3</th>\n",
       "      <th>x_train4</th>\n",
       "      <th>y_train</th>\n",
       "    </tr>\n",
       "  </thead>\n",
       "  <tbody>\n",
       "    <tr>\n",
       "      <th>0</th>\n",
       "      <td>5.1</td>\n",
       "      <td>3.5</td>\n",
       "      <td>1.4</td>\n",
       "      <td>0.2</td>\n",
       "      <td>1</td>\n",
       "    </tr>\n",
       "    <tr>\n",
       "      <th>1</th>\n",
       "      <td>4.9</td>\n",
       "      <td>3.0</td>\n",
       "      <td>1.4</td>\n",
       "      <td>0.2</td>\n",
       "      <td>1</td>\n",
       "    </tr>\n",
       "    <tr>\n",
       "      <th>2</th>\n",
       "      <td>4.6</td>\n",
       "      <td>3.1</td>\n",
       "      <td>1.5</td>\n",
       "      <td>0.2</td>\n",
       "      <td>1</td>\n",
       "    </tr>\n",
       "    <tr>\n",
       "      <th>3</th>\n",
       "      <td>5.0</td>\n",
       "      <td>3.6</td>\n",
       "      <td>1.4</td>\n",
       "      <td>0.2</td>\n",
       "      <td>1</td>\n",
       "    </tr>\n",
       "    <tr>\n",
       "      <th>4</th>\n",
       "      <td>4.6</td>\n",
       "      <td>3.4</td>\n",
       "      <td>1.4</td>\n",
       "      <td>0.3</td>\n",
       "      <td>1</td>\n",
       "    </tr>\n",
       "  </tbody>\n",
       "</table>\n",
       "</div>"
      ],
      "text/plain": [
       "   x_train1  x_train2  x_train3  x_train4  y_train\n",
       "0       5.1       3.5       1.4       0.2        1\n",
       "1       4.9       3.0       1.4       0.2        1\n",
       "2       4.6       3.1       1.5       0.2        1\n",
       "3       5.0       3.6       1.4       0.2        1\n",
       "4       4.6       3.4       1.4       0.3        1"
      ]
     },
     "execution_count": 8,
     "metadata": {},
     "output_type": "execute_result"
    }
   ],
   "source": [
    "import pandas as pd\n",
    "\n",
    "dt = data['grupoTrain']\n",
    "dt = pd.DataFrame(dt)\n",
    "\n",
    "dt['y_train'] = data['trainRots']\n",
    "dt = dt.rename(columns={0: \"x_train1\", 1: \"x_train2\", 2: \"x_train3\", 3:\"x_train4\"})\n",
    "\n",
    "dt.head()"
   ]
  },
  {
   "cell_type": "code",
   "execution_count": 9,
   "metadata": {},
   "outputs": [
    {
     "data": {
      "text/plain": [
       "<matplotlib.axes._subplots.AxesSubplot at 0x18c59d9f388>"
      ]
     },
     "execution_count": 9,
     "metadata": {},
     "output_type": "execute_result"
    },
    {
     "data": {
      "image/png": "[encoded data removed]",
      "text/plain": [
       "<Figure size 432x288 with 2 Axes>"
      ]
     },
     "metadata": {
      "needs_background": "light"
     },
     "output_type": "display_data"
    }
   ],
   "source": [
    "import seaborn as sns\n",
    "%matplotlib inline \n",
    "sns.heatmap(dt.corr(), annot=True, cmap=\"YlGnBu\")"
   ]
  },
  {
   "cell_type": "markdown",
   "metadata": {},
   "source": [
    "Analisando o heatmap acima, podemos ver que a feature 2 tem uma baixa correlação com o valor que queremos predizer, podendo ser excluída.\n",
    "\n",
    "A seguir demostraremos o resultado com a exclusão dessa caracteristica:"
   ]
  },
  {
   "cell_type": "code",
   "execution_count": 10,
   "metadata": {},
   "outputs": [
    {
     "data": {
      "text/html": [
       "<div>\n",
       "<style scoped>\n",
       "    .dataframe tbody tr th:only-of-type {\n",
       "        vertical-align: middle;\n",
       "    }\n",
       "\n",
       "    .dataframe tbody tr th {\n",
       "        vertical-align: top;\n",
       "    }\n",
       "\n",
       "    .dataframe thead th {\n",
       "        text-align: right;\n",
       "    }\n",
       "</style>\n",
       "<table border=\"1\" class=\"dataframe\">\n",
       "  <thead>\n",
       "    <tr style=\"text-align: right;\">\n",
       "      <th></th>\n",
       "      <th>x_train1</th>\n",
       "      <th>x_train3</th>\n",
       "      <th>x_train4</th>\n",
       "      <th>y_train</th>\n",
       "    </tr>\n",
       "  </thead>\n",
       "  <tbody>\n",
       "    <tr>\n",
       "      <th>0</th>\n",
       "      <td>5.1</td>\n",
       "      <td>1.4</td>\n",
       "      <td>0.2</td>\n",
       "      <td>1</td>\n",
       "    </tr>\n",
       "    <tr>\n",
       "      <th>1</th>\n",
       "      <td>4.9</td>\n",
       "      <td>1.4</td>\n",
       "      <td>0.2</td>\n",
       "      <td>1</td>\n",
       "    </tr>\n",
       "    <tr>\n",
       "      <th>2</th>\n",
       "      <td>4.6</td>\n",
       "      <td>1.5</td>\n",
       "      <td>0.2</td>\n",
       "      <td>1</td>\n",
       "    </tr>\n",
       "    <tr>\n",
       "      <th>3</th>\n",
       "      <td>5.0</td>\n",
       "      <td>1.4</td>\n",
       "      <td>0.2</td>\n",
       "      <td>1</td>\n",
       "    </tr>\n",
       "    <tr>\n",
       "      <th>4</th>\n",
       "      <td>4.6</td>\n",
       "      <td>1.4</td>\n",
       "      <td>0.3</td>\n",
       "      <td>1</td>\n",
       "    </tr>\n",
       "    <tr>\n",
       "      <th>...</th>\n",
       "      <td>...</td>\n",
       "      <td>...</td>\n",
       "      <td>...</td>\n",
       "      <td>...</td>\n",
       "    </tr>\n",
       "    <tr>\n",
       "      <th>95</th>\n",
       "      <td>5.8</td>\n",
       "      <td>5.1</td>\n",
       "      <td>1.9</td>\n",
       "      <td>3</td>\n",
       "    </tr>\n",
       "    <tr>\n",
       "      <th>96</th>\n",
       "      <td>6.7</td>\n",
       "      <td>5.7</td>\n",
       "      <td>2.5</td>\n",
       "      <td>3</td>\n",
       "    </tr>\n",
       "    <tr>\n",
       "      <th>97</th>\n",
       "      <td>6.7</td>\n",
       "      <td>5.2</td>\n",
       "      <td>2.3</td>\n",
       "      <td>3</td>\n",
       "    </tr>\n",
       "    <tr>\n",
       "      <th>98</th>\n",
       "      <td>6.5</td>\n",
       "      <td>5.2</td>\n",
       "      <td>2.0</td>\n",
       "      <td>3</td>\n",
       "    </tr>\n",
       "    <tr>\n",
       "      <th>99</th>\n",
       "      <td>6.2</td>\n",
       "      <td>5.4</td>\n",
       "      <td>2.3</td>\n",
       "      <td>3</td>\n",
       "    </tr>\n",
       "  </tbody>\n",
       "</table>\n",
       "<p>100 rows × 4 columns</p>\n",
       "</div>"
      ],
      "text/plain": [
       "    x_train1  x_train3  x_train4  y_train\n",
       "0        5.1       1.4       0.2        1\n",
       "1        4.9       1.4       0.2        1\n",
       "2        4.6       1.5       0.2        1\n",
       "3        5.0       1.4       0.2        1\n",
       "4        4.6       1.4       0.3        1\n",
       "..       ...       ...       ...      ...\n",
       "95       5.8       5.1       1.9        3\n",
       "96       6.7       5.7       2.5        3\n",
       "97       6.7       5.2       2.3        3\n",
       "98       6.5       5.2       2.0        3\n",
       "99       6.2       5.4       2.3        3\n",
       "\n",
       "[100 rows x 4 columns]"
      ]
     },
     "execution_count": 10,
     "metadata": {},
     "output_type": "execute_result"
    }
   ],
   "source": [
    "dt.drop(columns=['x_train2'])"
   ]
  },
  {
   "cell_type": "code",
   "execution_count": 11,
   "metadata": {},
   "outputs": [
    {
     "name": "stdout",
     "output_type": "stream",
     "text": [
      "Q1.2: A acurácia máxima se dá com k=15 obtendo: 98.0%.\n"
     ]
    }
   ],
   "source": [
    "dt = dt.values.tolist()\n",
    "\n",
    "x_train = dt[:3]\n",
    "normalizedXTest = normaliza_valores(x_test)\n",
    "\n",
    "accs, knn = knn_grid_search(normalizedXTrain, y_train, normalizedXTest, list(range(1, 61))) \n",
    "print(\"Q1.2: A acurácia máxima se dá com k=\" + str(knn.K) + \" obtendo: \" + str(max(accs)*100) + \"%.\")"
   ]
  },
  {
   "cell_type": "markdown",
   "metadata": {},
   "source": [
    "### Grupo de Dados 2:\n",
    "\n",
    "O Grupo de Dados 2 é um problema que visa prever a origem do vinho em base aos seus componentes\n",
    "químicos. As características são:\n",
    "\n",
    "1) Álcool\n",
    "\n",
    "2) Ácido málico\n",
    "\n",
    "3) Cinzas\n",
    "\n",
    "4) Alcalinidade das cinzas\n",
    "\n",
    "5) Magnésio\n",
    "\n",
    "6) Fenóis totais\n",
    "\n",
    "7) Flavonóides\n",
    "\n",
    "8) Fenóis não flavonóides\n",
    "\n",
    "9) Proantocianinas\n",
    "\n",
    "10) Intensidade de cor\n",
    "\n",
    "11) Tonalidade\n",
    "\n",
    "12) OD280 / OD315 de vinhos diluídos\n",
    "\n",
    "13) Prolina\n",
    "\n",
    "\n",
    "    Q2.1: Aplique seu kNN a este problema. Qual é a sua acurácia de classificação?\n",
    "    \n",
    "    Q2.2: A acurácia pode ser igual a 98% com o kNN. Descubra por que o resultado atual é muito menor. Ajuste o conjunto de dados ou k de tal forma que a acurácia se torne 98% e explique o que você fez e por quê."
   ]
  },
  {
   "cell_type": "code",
   "execution_count": 12,
   "metadata": {},
   "outputs": [
    {
     "name": "stdout",
     "output_type": "stream",
     "text": [
      "x_train shape:(118, 13)\n",
      "y_train shape:(118, 1)\n",
      "\n",
      "x_test shape:(60, 13)\n",
      "y_test shape:(60, 1)\n"
     ]
    }
   ],
   "source": [
    "# carregando os dados\n",
    "data = scipy.loadmat('Dados/grupoDados2.mat')\n",
    "\n",
    "# dividindo os dados\n",
    "x_train, x_test, y_train, y_test = data['grupoTrain'], data['grupoTest'], data['trainRots'], data['testRots']\n",
    "\n",
    "normalizedXTrain = normaliza_valores(x_train)\n",
    "normalizedXTest = normaliza_valores(x_test)\n",
    "\n",
    "print('x_train shape:' + str(x_train.shape))\n",
    "print('y_train shape:' + str(y_train.shape))\n",
    "print()\n",
    "print('x_test shape:' + str(x_test.shape))\n",
    "print('y_test shape:' + str(y_test.shape))"
   ]
  },
  {
   "cell_type": "code",
   "execution_count": 13,
   "metadata": {},
   "outputs": [
    {
     "name": "stdout",
     "output_type": "stream",
     "text": [
      "Q2.1: A acurácia máxima se dá com k=1 obtendo: 76.66666666666667%.\n"
     ]
    }
   ],
   "source": [
    "accs, knn = knn_grid_search(normalizedXTrain, y_train, normalizedXTest, list(range(1, 61))) \n",
    "print(\"Q2.1: A acurácia máxima se dá com k=\" + str(knn.K) + \" obtendo: \" + str(max(accs)*100) + \"%.\")"
   ]
  },
  {
   "cell_type": "markdown",
   "metadata": {},
   "source": [
    "### Grupo de Dados 3:\n",
    "\n",
    "    Q3.1: Aplique o kNN ao problema usando k = 1. Qual é a acurácia na classificação?\n",
    "    \n",
    "    Q3.2: A acurácia pode ser igual a 92% com o kNN. Descubra por que o resultado atual é muito menor. Ajuste o conjunto de dados ou k de tal forma que a acurácia se torne 92% e explique o que você fez e por quê."
   ]
  },
  {
   "cell_type": "code",
   "execution_count": 14,
   "metadata": {},
   "outputs": [
    {
     "name": "stdout",
     "output_type": "stream",
     "text": [
      "x_train shape:(100, 2)\n",
      "y_train shape:(100, 1)\n",
      "\n",
      "x_test shape:(50, 2)\n",
      "y_test shape:(50, 1)\n"
     ]
    }
   ],
   "source": [
    "# carregando os dados\n",
    "data = scipy.loadmat('Dados/grupoDados3.mat')\n",
    "\n",
    "# dividindo os dados\n",
    "x_train, x_test, y_train, y_test = data['grupoTrain'], data['grupoTest'], data['trainRots'], data['testRots']\n",
    "\n",
    "normalizedXTrain = normaliza_valores(x_train)\n",
    "normalizedXTest = normaliza_valores(x_test)\n",
    "\n",
    "print('x_train shape:' + str(x_train.shape))\n",
    "print('y_train shape:' + str(y_train.shape))\n",
    "print()\n",
    "print('x_test shape:' + str(x_test.shape))\n",
    "print('y_test shape:' + str(y_test.shape))"
   ]
  },
  {
   "cell_type": "code",
   "execution_count": 15,
   "metadata": {},
   "outputs": [
    {
     "name": "stdout",
     "output_type": "stream",
     "text": [
      "Utilizando k=1, a acurácia foi de: 66.0%.\n"
     ]
    }
   ],
   "source": [
    "knn = KNN(1)\n",
    "\n",
    "treinado = knn.fit(normalizedXTrain, y_train, normalizedXTest)\n",
    "classificado = knn.predict(treinado)\n",
    "\n",
    "array = np.array(classificado)\n",
    "resposta = y_test[:,0]\n",
    "\n",
    "batata = array == resposta\n",
    "acertos = batata[batata==True]\n",
    "print(\"Utilizando k=1, a acurácia foi de: \" + str(len(acertos)/len(array) * 100) + \"%.\")"
   ]
  },
  {
   "cell_type": "code",
   "execution_count": 16,
   "metadata": {},
   "outputs": [
    {
     "name": "stdout",
     "output_type": "stream",
     "text": [
      "Q3.2: A acurácia máxima se dá com k=10 obtendo: 96.0%.\n",
      "Encontramos o melhor K para o problema e não normalizamos os dados.\n"
     ]
    }
   ],
   "source": [
    "# Sem a normalizaçao de dados o resultado se tornou superior\n",
    "accs, knn = knn_grid_search(x_train, y_train, x_test, list(range(1, 51))) \n",
    "print(\"Q3.2: A acurácia máxima se dá com k=\" + str(knn.K) + \" obtendo: \" + str(max(accs)*100) + \"%.\")\n",
    "print(\"Encontramos o melhor K para o problema e não normalizamos os dados.\")"
   ]
  }
 ],
 "metadata": {
  "kernelspec": {
   "display_name": "Python 3",
   "language": "python",
   "name": "python3"
  },
  "language_info": {
   "codemirror_mode": {
    "name": "ipython",
    "version": 3
   },
   "file_extension": ".py",
   "mimetype": "text/x-python",
   "name": "python",
   "nbconvert_exporter": "python",
   "pygments_lexer": "ipython3",
   "version": "3.7.4"
  }
 },
 "nbformat": 4,
 "nbformat_minor": 2
}
